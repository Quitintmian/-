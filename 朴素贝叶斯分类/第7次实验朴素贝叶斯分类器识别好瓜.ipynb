{
 "cells": [
  {
   "cell_type": "markdown",
   "metadata": {
    "collapsed": false
   },
   "source": [
    "**本次实验任务**\n",
    "\n",
    "以西瓜数据集3.0为例，使用朴素贝叶斯分类算法建立一个模型，并根据朴素贝叶斯分类算法流程对模型进行训练，得到一个能够准确对西瓜好坏进行识别的模型。\n",
    "\n",
    "**提交要求**\n",
    "\n",
    "（1）文本框插入“朴素贝叶斯分类算法实现代码”；（2）模型运行结果；（3）学习过程的心得体会、问题、建议（可参考亮考帮形式撰写）；（4）上传源代码。\n",
    "\n",
    "这三个类适用的分类场景各不相同，主要根据数据类型来进行模型的选择。一般来说，如果样本特征的分布大部分是连续值，使用GaussianNB会比较好。如果样本特征的分布大部分是多元离散值，使用MultinomialNB比较合适。而如果样本特征是二元离散值或者很稀疏的多元离散值，应该使用BernoulliNB。\n",
    "\n",
    "**参考资料**\n",
    "\n",
    "[1] https://scikit-learn.org/stable/modules/generated/sklearn.model_selection.cross_validate.html#sklearn.model_selection.cross_validate\n",
    "\n",
    "[2] https://scikit-learn.org/stable/modules/model_evaluation.html#scoring-parameter\n",
    "\n",
    "[3] https://www.studyai.cn/modules/naive_bayes.html\n",
    "\n",
    "[4] https://scikit-learn.org/stable/modules/naive_bayes.html\n",
    "\n",
    "[5] https://zhuanlan.zhihu.com/p/117230627"
   ]
  },
  {
   "cell_type": "code",
   "execution_count": 2,
   "metadata": {
    "collapsed": false
   },
   "outputs": [
    {
     "data": {
      "text/plain": [
       "'\\nCreated on Wednesday October 20 14:33:40 2021\\n\\n@author: Xing-Rong Fan\\n'"
      ]
     },
     "execution_count": 2,
     "metadata": {},
     "output_type": "execute_result"
    }
   ],
   "source": [
    "# !/usr/bin/env python3\r\n",
    "# -*- coding: utf-8 -*-\r\n",
    "\"\"\"\r\n",
    "Created on Wednesday October 20 14:33:40 2021\r\n",
    "\r\n",
    "@author: Xing-Rong Fan\r\n",
    "\"\"\""
   ]
  },
  {
   "cell_type": "code",
   "execution_count": 34,
   "metadata": {
    "collapsed": false
   },
   "outputs": [],
   "source": [
    "import pandas as pd\r\n",
    "import numpy as np\r\n",
    "from sklearn.naive_bayes import BernoulliNB, MultinomialNB, GaussianNB\r\n",
    "from sklearn.model_selection import cross_validate\r\n",
    "from sklearn.preprocessing import LabelEncoder\r\n",
    "from sklearn import preprocessing\r\n",
    "from io import StringIO\r\n",
    "# import subprocess"
   ]
  },
  {
   "cell_type": "markdown",
   "metadata": {
    "collapsed": false
   },
   "source": [
    "**西瓜数据集3.0**\n",
    "\n",
    "编号,色泽,根蒂,敲声,纹理,脐部,触感,密度,含糖率,好瓜\n",
    "\n",
    "1,青绿,蜷缩,浊响,清晰,凹陷,硬滑,0.697,0.46,是\n",
    "\n",
    "2,乌黑,蜷缩,沉闷,清晰,凹陷,硬滑,0.774,0.376,是\n",
    "\n",
    "3,乌黑,蜷缩,浊响,清晰,凹陷,硬滑,0.634,0.264,是\n",
    "\n",
    "4,青绿,蜷缩,沉闷,清晰,凹陷,硬滑,0.608,0.318,是\n",
    "\n",
    "5,浅白,蜷缩,浊响,清晰,凹陷,硬滑,0.556,0.215,是\n",
    "\n",
    "6,青绿,稍蜷,浊响,清晰,稍凹,软粘,0.403,0.237,是\n",
    "\n",
    "7,乌黑,稍蜷,浊响,稍糊,稍凹,软粘,0.481,0.149,是\n",
    "\n",
    "8,乌黑,稍蜷,浊响,清晰,稍凹,硬滑,0.437,0.211,是\n",
    "\n",
    "9,乌黑,稍蜷,沉闷,稍糊,稍凹,硬滑,0.666,0.091,否\n",
    "\n",
    "10,青绿,硬挺,清脆,清晰,平坦,软粘,0.243,0.267,否\n",
    "\n",
    "11,浅白,硬挺,清脆,模糊,平坦,硬滑,0.245,0.057,否\n",
    "\n",
    "12,浅白,蜷缩,浊响,模糊,平坦,软粘,0.343,0.099,否\n",
    "\n",
    "13,青绿,稍蜷,浊响,稍糊,凹陷,硬滑,0.639,0.161,否\n",
    "\n",
    "14,浅白,稍蜷,沉闷,稍糊,凹陷,硬滑,0.657,0.198,否\n",
    "\n",
    "15,乌黑,稍蜷,浊响,清晰,稍凹,软粘,0.36,0.37,否\n",
    "\n",
    "16,浅白,蜷缩,浊响,模糊,平坦,硬滑,0.593,0.042,否\n",
    "\n",
    "17,青绿,蜷缩,沉闷,稍糊,稍凹,硬滑,0.719,0.103,否\n",
    "\n",
    "![](https://ai-studio-static-online.cdn.bcebos.com/193838cc6379444c96b8a64dc07acb4b889a57f665ae4d3f89e6cb654737f670)\n"
   ]
  },
  {
   "cell_type": "code",
   "execution_count": 35,
   "metadata": {
    "collapsed": false
   },
   "outputs": [],
   "source": [
    "\r\n",
    "# 读入数据：人工处理特征\r\n",
    "def createDataSet_handCrafted():\r\n",
    "    ''' 数据读入 '''\r\n",
    "    rawData = StringIO(\r\n",
    "    \"\"\"\r\n",
    "    编号,色泽,根蒂,敲声,纹理,脐部,触感,密度,含糖率,好瓜\r\n",
    "    1,1,1,0.5,1,1,1,0.697,0.46,1\r\n",
    "    2,0,1,1,1,1,1,0.774,0.376,1\r\n",
    "    3,0,1,0.5,1,1,1,0.634,0.264,1\r\n",
    "    4,1,1,1,1,1,1,0.608,0.318,1\r\n",
    "    5,0.5,1,0.5,1,1,1,0.556,0.215,1\r\n",
    "    6,1,0.5,0.5,1,0.5,2,0.403,0.237,1\r\n",
    "    7,0,0.5,0.5,0.5,0.5,2,0.481,0.149,1\r\n",
    "    8,0,0.5,0.5,0.5,0.5,1,0.437,0.211,1\r\n",
    "    9,0,0.5,1,1,0.5,1,0.666,0.091,0\r\n",
    "    10,1,0,0,0.5,0,2,0.243,0.267,0\r\n",
    "    11,0.5,0,0,0,0,1,0.245,0.057,0\r\n",
    "    12,0.5,1,0.5,0,0,2,0.343,0.099,0\r\n",
    "    13,1,0.5,0.5,0.5,1,1,0.639,0.161,0\r\n",
    "    14,0.5,0.5,1,0.5,1,1,0.657,0.198,0\r\n",
    "    15,0,0.5,0.5,1,0.5,2,0.36,0.37,0\r\n",
    "    16,0.5,1,0.5,0,0,1,0.593,0.042,0\r\n",
    "    17,1,1,1,0.5,0.5,1,0.719,0.103,0\r\n",
    "\"\"\")\r\n",
    "    df = pd.read_csv(rawData, sep=\",\") \r\n",
    "    return df"
   ]
  },
  {
   "cell_type": "code",
   "execution_count": 36,
   "metadata": {
    "collapsed": false
   },
   "outputs": [],
   "source": [
    "# 读入数据：自动批量处理特征\r\n",
    "def createDataSet_automated():\r\n",
    "    ''' 数据读入 '''\r\n",
    "    rawData = StringIO(\r\n",
    "    \"\"\"\r\n",
    "编号,色泽,根蒂,敲声,纹理,脐部,触感,密度,含糖率,好瓜\r\n",
    "1,青绿,蜷缩,浊响,清晰,凹陷,硬滑,0.697,0.46,是\r\n",
    "2,乌黑,蜷缩,沉闷,清晰,凹陷,硬滑,0.774,0.376,是\r\n",
    "3,乌黑,蜷缩,浊响,清晰,凹陷,硬滑,0.634,0.264,是\r\n",
    "4,青绿,蜷缩,沉闷,清晰,凹陷,硬滑,0.608,0.318,是\r\n",
    "5,浅白,蜷缩,浊响,清晰,凹陷,硬滑,0.556,0.215,是\r\n",
    "6,青绿,稍蜷,浊响,清晰,稍凹,软粘,0.403,0.237,是\r\n",
    "7,乌黑,稍蜷,浊响,稍糊,稍凹,软粘,0.481,0.149,是\r\n",
    "8,乌黑,稍蜷,浊响,清晰,稍凹,硬滑,0.437,0.211,是\r\n",
    "9,乌黑,稍蜷,沉闷,稍糊,稍凹,硬滑,0.666,0.091,否\r\n",
    "10,青绿,硬挺,清脆,清晰,平坦,软粘,0.243,0.267,否\r\n",
    "11,浅白,硬挺,清脆,模糊,平坦,硬滑,0.245,0.057,否\r\n",
    "12,浅白,蜷缩,浊响,模糊,平坦,软粘,0.343,0.099,否\r\n",
    "13,青绿,稍蜷,浊响,稍糊,凹陷,硬滑,0.639,0.161,否\r\n",
    "14,浅白,稍蜷,沉闷,稍糊,凹陷,硬滑,0.657,0.198,否\r\n",
    "15,乌黑,稍蜷,浊响,清晰,稍凹,软粘,0.36,0.37,否\r\n",
    "16,浅白,蜷缩,浊响,模糊,平坦,硬滑,0.593,0.042,否\r\n",
    "17,青绿,蜷缩,沉闷,稍糊,稍凹,硬滑,0.719,0.103,否\r\n",
    "\"\"\")\r\n",
    "    df = pd.read_csv(rawData, sep=\",\") \r\n",
    "    return df"
   ]
  },
  {
   "cell_type": "code",
   "execution_count": 37,
   "metadata": {
    "collapsed": false
   },
   "outputs": [
    {
     "data": {
      "text/html": [
       "<div>\n",
       "<style scoped>\n",
       "    .dataframe tbody tr th:only-of-type {\n",
       "        vertical-align: middle;\n",
       "    }\n",
       "\n",
       "    .dataframe tbody tr th {\n",
       "        vertical-align: top;\n",
       "    }\n",
       "\n",
       "    .dataframe thead th {\n",
       "        text-align: right;\n",
       "    }\n",
       "</style>\n",
       "<table border=\"1\" class=\"dataframe\">\n",
       "  <thead>\n",
       "    <tr style=\"text-align: right;\">\n",
       "      <th></th>\n",
       "      <th>编号</th>\n",
       "      <th>色泽</th>\n",
       "      <th>根蒂</th>\n",
       "      <th>敲声</th>\n",
       "      <th>纹理</th>\n",
       "      <th>脐部</th>\n",
       "      <th>触感</th>\n",
       "      <th>密度</th>\n",
       "      <th>含糖率</th>\n",
       "      <th>好瓜</th>\n",
       "    </tr>\n",
       "  </thead>\n",
       "  <tbody>\n",
       "    <tr>\n",
       "      <th>0</th>\n",
       "      <td>1</td>\n",
       "      <td>青绿</td>\n",
       "      <td>蜷缩</td>\n",
       "      <td>浊响</td>\n",
       "      <td>清晰</td>\n",
       "      <td>凹陷</td>\n",
       "      <td>硬滑</td>\n",
       "      <td>0.697</td>\n",
       "      <td>0.460</td>\n",
       "      <td>是</td>\n",
       "    </tr>\n",
       "    <tr>\n",
       "      <th>1</th>\n",
       "      <td>2</td>\n",
       "      <td>乌黑</td>\n",
       "      <td>蜷缩</td>\n",
       "      <td>沉闷</td>\n",
       "      <td>清晰</td>\n",
       "      <td>凹陷</td>\n",
       "      <td>硬滑</td>\n",
       "      <td>0.774</td>\n",
       "      <td>0.376</td>\n",
       "      <td>是</td>\n",
       "    </tr>\n",
       "    <tr>\n",
       "      <th>2</th>\n",
       "      <td>3</td>\n",
       "      <td>乌黑</td>\n",
       "      <td>蜷缩</td>\n",
       "      <td>浊响</td>\n",
       "      <td>清晰</td>\n",
       "      <td>凹陷</td>\n",
       "      <td>硬滑</td>\n",
       "      <td>0.634</td>\n",
       "      <td>0.264</td>\n",
       "      <td>是</td>\n",
       "    </tr>\n",
       "    <tr>\n",
       "      <th>3</th>\n",
       "      <td>4</td>\n",
       "      <td>青绿</td>\n",
       "      <td>蜷缩</td>\n",
       "      <td>沉闷</td>\n",
       "      <td>清晰</td>\n",
       "      <td>凹陷</td>\n",
       "      <td>硬滑</td>\n",
       "      <td>0.608</td>\n",
       "      <td>0.318</td>\n",
       "      <td>是</td>\n",
       "    </tr>\n",
       "    <tr>\n",
       "      <th>4</th>\n",
       "      <td>5</td>\n",
       "      <td>浅白</td>\n",
       "      <td>蜷缩</td>\n",
       "      <td>浊响</td>\n",
       "      <td>清晰</td>\n",
       "      <td>凹陷</td>\n",
       "      <td>硬滑</td>\n",
       "      <td>0.556</td>\n",
       "      <td>0.215</td>\n",
       "      <td>是</td>\n",
       "    </tr>\n",
       "  </tbody>\n",
       "</table>\n",
       "</div>"
      ],
      "text/plain": [
       "   编号  色泽  根蒂  敲声  纹理  脐部  触感     密度    含糖率 好瓜\n",
       "0   1  青绿  蜷缩  浊响  清晰  凹陷  硬滑  0.697  0.460  是\n",
       "1   2  乌黑  蜷缩  沉闷  清晰  凹陷  硬滑  0.774  0.376  是\n",
       "2   3  乌黑  蜷缩  浊响  清晰  凹陷  硬滑  0.634  0.264  是\n",
       "3   4  青绿  蜷缩  沉闷  清晰  凹陷  硬滑  0.608  0.318  是\n",
       "4   5  浅白  蜷缩  浊响  清晰  凹陷  硬滑  0.556  0.215  是"
      ]
     },
     "execution_count": 37,
     "metadata": {},
     "output_type": "execute_result"
    }
   ],
   "source": [
    "# 可测试不同编码特征工程下结果的差异\r\n",
    "df_handCrafted = createDataSet_handCrafted() # 手工将西瓜数据集特征变量重编码处理\r\n",
    "df_automated = createDataSet_automated()     # 基于LabelEncoder的类别变量重编码\r\n",
    "df = df_automated\r\n",
    "df.head()"
   ]
  },
  {
   "cell_type": "code",
   "execution_count": 38,
   "metadata": {
    "collapsed": false
   },
   "outputs": [],
   "source": [
    "# 基于LabelEncoder的类别变量重编码\r\n",
    "class MultiColumnLabelEncoder:\r\n",
    "    def __init__(self,columns = None):\r\n",
    "        self.columns = columns # array of column names to encode\r\n",
    "    def fit(self,X,y=None):\r\n",
    "        return self # not relevant here\r\n",
    "    def transform(self,X):\r\n",
    "        '''\r\n",
    "        Transforms columns of X specified in self.columns using\r\n",
    "        LabelEncoder(). If no columns specified, transforms all\r\n",
    "        columns in X.\r\n",
    "        '''\r\n",
    "        output = X.copy()\r\n",
    "        if self.columns is not None:\r\n",
    "            for col in self.columns:\r\n",
    "                output[col] = LabelEncoder().fit_transform(output[col])\r\n",
    "        else:\r\n",
    "            for colname,col in output.iteritems():\r\n",
    "                output[colname] = LabelEncoder().fit_transform(col)\r\n",
    "        return output\r\n",
    "    def fit_transform(self,X,y=None):\r\n",
    "        return self.fit(X,y).transform(X)"
   ]
  },
  {
   "cell_type": "code",
   "execution_count": 39,
   "metadata": {
    "collapsed": false
   },
   "outputs": [
    {
     "name": "stdout",
     "output_type": "stream",
     "text": [
      "    编号  色泽  根蒂  敲声  纹理  脐部  触感     密度    含糖率  好瓜\n",
      "0    1   2   2   1   1   0   0  0.697  0.460   1\n",
      "1    2   0   2   0   1   0   0  0.774  0.376   1\n",
      "2    3   0   2   1   1   0   0  0.634  0.264   1\n",
      "3    4   2   2   0   1   0   0  0.608  0.318   1\n",
      "4    5   1   2   1   1   0   0  0.556  0.215   1\n",
      "5    6   2   1   1   1   2   1  0.403  0.237   1\n",
      "6    7   0   1   1   2   2   1  0.481  0.149   1\n",
      "7    8   0   1   1   1   2   0  0.437  0.211   1\n",
      "8    9   0   1   0   2   2   0  0.666  0.091   0\n",
      "9   10   2   0   2   1   1   1  0.243  0.267   0\n",
      "10  11   1   0   2   0   1   0  0.245  0.057   0\n",
      "11  12   1   2   1   0   1   1  0.343  0.099   0\n",
      "12  13   2   1   1   2   0   0  0.639  0.161   0\n",
      "13  14   1   1   0   2   0   0  0.657  0.198   0\n",
      "14  15   0   1   1   1   2   1  0.360  0.370   0\n",
      "15  16   1   2   1   0   1   0  0.593  0.042   0\n",
      "16  17   2   2   0   2   2   0  0.719  0.103   0\n"
     ]
    }
   ],
   "source": [
    "df = MultiColumnLabelEncoder(columns=['色泽', '根蒂', '敲声', '纹理', '脐部', '触感', '好瓜']).fit_transform(df)\r\n",
    "print(df)"
   ]
  },
  {
   "cell_type": "code",
   "execution_count": 40,
   "metadata": {
    "collapsed": false
   },
   "outputs": [
    {
     "name": "stdout",
     "output_type": "stream",
     "text": [
      "    色泽  根蒂  敲声  纹理  脐部  触感     密度    含糖率\n",
      "0    2   2   1   1   0   0  0.697  0.460\n",
      "1    0   2   0   1   0   0  0.774  0.376\n",
      "2    0   2   1   1   0   0  0.634  0.264\n",
      "3    2   2   0   1   0   0  0.608  0.318\n",
      "4    1   2   1   1   0   0  0.556  0.215\n",
      "5    2   1   1   1   2   1  0.403  0.237\n",
      "6    0   1   1   2   2   1  0.481  0.149\n",
      "7    0   1   1   1   2   0  0.437  0.211\n",
      "8    0   1   0   2   2   0  0.666  0.091\n",
      "9    2   0   2   1   1   1  0.243  0.267\n",
      "10   1   0   2   0   1   0  0.245  0.057\n",
      "11   1   2   1   0   1   1  0.343  0.099\n",
      "12   2   1   1   2   0   0  0.639  0.161\n",
      "13   1   1   0   2   0   0  0.657  0.198\n",
      "14   0   1   1   1   2   1  0.360  0.370\n",
      "15   1   2   1   0   1   0  0.593  0.042\n",
      "16   2   2   0   2   2   0  0.719  0.103\n",
      "0     1\n",
      "1     1\n",
      "2     1\n",
      "3     1\n",
      "4     1\n",
      "5     1\n",
      "6     1\n",
      "7     1\n",
      "8     0\n",
      "9     0\n",
      "10    0\n",
      "11    0\n",
      "12    0\n",
      "13    0\n",
      "14    0\n",
      "15    0\n",
      "16    0\n",
      "Name: 好瓜, dtype: int64\n"
     ]
    }
   ],
   "source": [
    "feature_names = ['色泽','根蒂','敲声','纹理','脐部','触感','密度','含糖率']\r\n",
    "target_names = ['是', '否']\r\n",
    "feature = df[feature_names]\r\n",
    "label = df['好瓜']\r\n",
    "X = feature\r\n",
    "y = label\r\n",
    "print(X)\r\n",
    "print(y)"
   ]
  },
  {
   "cell_type": "code",
   "execution_count": 41,
   "metadata": {
    "collapsed": false
   },
   "outputs": [],
   "source": [
    "def evaluationResults(modelName, X, y, n_splits_cv):\r\n",
    "    '''\r\n",
    "    函数功能：采用k-fold cv计算给定模型的accuracy、precision、recall和f1\r\n",
    "    函数输入：（1）模型名称：modelName = {'BNB':'BernoulliNB', 'MNB':'MultinomialNB', 'GNB':'GaussianNB'}\r\n",
    "             （2）数据：X, y\r\n",
    "             （3）划分折数：n_splits_cv\r\n",
    "    函数输出：返回模型accuracy、precision、recall和f1\r\n",
    "    '''\r\n",
    "    evalResults = {}\r\n",
    "    if modelName == 'BernoulliNB':\r\n",
    "        model = BernoulliNB()\r\n",
    "    elif modelName == 'MultinomialNB':\r\n",
    "        model = MultinomialNB()\r\n",
    "    elif modelName == 'GaussianNB':\r\n",
    "        model = GaussianNB()\r\n",
    "    else:\r\n",
    "        print(\"您输入的模型有误！\")\r\n",
    "    bits = 3\r\n",
    "    scores = cross_validate(model, X, y, cv=n_splits_cv, scoring=('accuracy', 'precision','recall','f1'), n_jobs=-1, return_train_score=True)\r\n",
    "    evalResults[modelName+\"\\'s mean\"] = [round(np.mean(scores['test_accuracy']),bits), \\\r\n",
    "                                                         round(np.mean(scores['test_precision']),bits), \\\r\n",
    "                                                         round(np.mean(scores['test_recall']),bits), \\\r\n",
    "                                                         round(np.mean(scores['test_f1']),bits)]\r\n",
    "    evalResults[modelName+\"\\'s std\"] =  [round(np.std(scores['test_accuracy']),bits), \\\r\n",
    "                                                         round(np.std(scores['test_precision']),bits),\\\r\n",
    "                                                         round(np.std(scores['test_recall']),bits), \\\r\n",
    "                                                         round(np.std(scores['test_f1']),bits)]\r\n",
    "    model_eval_results = pd.DataFrame(evalResults,index=('ACC','P','R','F1'))                                   \r\n",
    "    return model_eval_results"
   ]
  },
  {
   "cell_type": "code",
   "execution_count": 42,
   "metadata": {
    "collapsed": false
   },
   "outputs": [
    {
     "name": "stdout",
     "output_type": "stream",
     "text": [
      "     BernoulliNB's mean  BernoulliNB's std\n",
      "ACC               0.646              0.327\n",
      "P                 0.562              0.390\n",
      "R                 0.750              0.433\n",
      "F1                0.625              0.389\n",
      "     MultinomialNB's mean  MultinomialNB's std\n",
      "ACC                 0.542                0.309\n",
      "P                   0.375                0.415\n",
      "R                   0.500                0.500\n",
      "F1                  0.417                0.433\n",
      "     GaussianNB's mean  GaussianNB's std\n",
      "ACC              0.750             0.354\n",
      "P                0.625             0.484\n",
      "R                0.625             0.484\n",
      "F1               0.625             0.484\n"
     ]
    }
   ],
   "source": [
    "n_splits_cv = 8\r\n",
    "modelName = {'BNB':'BernoulliNB', 'MNB':'MultinomialNB', 'GNB':'GaussianNB'}\r\n",
    "df_BNB = evaluationResults(modelName['BNB'], X, y, n_splits_cv)\r\n",
    "print(df_BNB)\r\n",
    "df_MNB = evaluationResults(modelName['MNB'], X, y, n_splits_cv)\r\n",
    "print(df_MNB)\r\n",
    "df_GNB = evaluationResults(modelName['GNB'], X, y, n_splits_cv)\r\n",
    "print(df_GNB)\r\n",
    "resultsTable = pd.concat([df_BNB, df_MNB, df_GNB],axis=1)\r\n",
    "# print(resultsTable)\r\n"
   ]
  }
 ],
 "metadata": {
  "kernelspec": {
   "display_name": "Python 3",
   "language": "python",
   "name": "py35-paddle1.2.0"
  },
  "language_info": {
   "codemirror_mode": {
    "name": "ipython",
    "version": 3
   },
   "file_extension": ".py",
   "mimetype": "text/x-python",
   "name": "python",
   "nbconvert_exporter": "python",
   "pygments_lexer": "ipython3",
   "version": "3.7.4"
  }
 },
 "nbformat": 4,
 "nbformat_minor": 1
}
